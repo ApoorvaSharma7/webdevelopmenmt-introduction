{
  "nbformat": 4,
  "nbformat_minor": 0,
  "metadata": {
    "colab": {
      "provenance": []
    },
    "kernelspec": {
      "name": "python3",
      "display_name": "Python 3"
    },
    "language_info": {
      "name": "python"
    }
  },
  "cells": [
    {
      "cell_type": "code",
      "execution_count": null,
      "metadata": {
        "id": "8RVnT5lVqLMr"
      },
      "outputs": [],
      "source": []
    },
    {
      "cell_type": "markdown",
      "source": [
        "Q What is HTML, and what is its role in web development?\n",
        "- HTML stands for Hyper Text Markup Language it is a part of frontend its role in webdevelopment is to create the frontend part of the website used to create webpage.\n",
        "\n",
        "Q What is web development?\n",
        "- web development is used to create website and maintain them\n",
        "\n",
        "Q  What are the core technologies used in web development?\n",
        "- The core technologies used in web development are HTML, CSS, and JavaScript.\n",
        "\n",
        "Q  What is CSS and what is its purpose?\n",
        "- Cascading Style Sheets (CSS) is a coding language that controls the presentation of a document written in HTML or XML\n",
        "\n",
        "Q What are the basic data types in JavaScript?\n",
        "- Number.\n",
        "String.\n",
        "Boolean.\n",
        "Null.\n",
        "Undefined.\n",
        "BigInt.\n",
        "Symbol.\n",
        "Object.\n",
        "\n",
        "\n",
        "\n",
        "\n",
        "---\n",
        "\n",
        "\n"
      ],
      "metadata": {
        "id": "-dvQLuWjqOvA"
      }
    }
  ]
}
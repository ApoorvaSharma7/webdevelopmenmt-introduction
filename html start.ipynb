{
  "nbformat": 4,
  "nbformat_minor": 0,
  "metadata": {
    "colab": {
      "provenance": []
    },
    "kernelspec": {
      "name": "python3",
      "display_name": "Python 3"
    },
    "language_info": {
      "name": "python"
    }
  },
  "cells": [
    {
      "cell_type": "code",
      "execution_count": null,
      "metadata": {
        "id": "Xi39ijjKPsvJ"
      },
      "outputs": [],
      "source": []
    },
    {
      "cell_type": "markdown",
      "source": [
        "Q1. Write a simple program in HTML  that displays the heading \"HTML defines the content and structure of your website” on the web browser"
      ],
      "metadata": {
        "id": "yrCKaZE6PyH_"
      }
    },
    {
      "cell_type": "code",
      "source": [
        "<!DOCTYPE html>\n",
        "<html lang=\"en\">\n",
        "<head>\n",
        "    <meta charset=\"UTF-8\">\n",
        "    <meta name=\"viewport\" content=\"width=device-width, initial-scale=1.0\">\n",
        "    <title>HTML Structure</title>\n",
        "</head>\n",
        "<body>\n",
        "    <h1>HTML defines the content and structure of your website</h1>\n",
        "</body>\n",
        "</html>\n"
      ],
      "metadata": {
        "id": "tV-1MVW9PteN"
      },
      "execution_count": null,
      "outputs": []
    },
    {
      "cell_type": "markdown",
      "source": [
        "Q2. Explain the purpose of comments in HTML and provide an example of how to use comments in an HTML document"
      ],
      "metadata": {
        "id": "ucteGVd5P-jK"
      }
    },
    {
      "cell_type": "markdown",
      "source": [
        "A2. Comments in HTML are used to add notes or explanations within the code that are ignored by the browser. They help developers understand the code, collaborate efficiently, and temporarily disable code without deleting it."
      ],
      "metadata": {
        "id": "SaM8rXcTQYib"
      }
    },
    {
      "cell_type": "code",
      "source": [
        "<!DOCTYPE HTML>\n",
        "<html>\n",
        "<head>\n",
        "<title>\n",
        "comments\n",
        "</title>\n",
        "</head>\n",
        "<body>\n",
        "<!-- hello this is comment-->\n",
        "<p>hello everyone</p>\n",
        "</body>\n",
        "</html>\n"
      ],
      "metadata": {
        "id": "Yri43FncQbxi"
      },
      "execution_count": null,
      "outputs": []
    },
    {
      "cell_type": "markdown",
      "source": [
        "Q3. Write an HTML program that includes a heading, a paragraph of text, a horizontal line, and a line break.\n",
        "Arrange these elements to create a simple web page layout"
      ],
      "metadata": {
        "id": "y6PBo8gERHuT"
      }
    },
    {
      "cell_type": "code",
      "source": [
        "<!DOCTYPE html>\n",
        "<html>\n",
        "<head>\n",
        "<title> program </title>\n",
        "</head>\n",
        "<body>\n",
        "<h1> heading1</h1><br>\n",
        "<p> paragraph</p>\n",
        "<hr>\n",
        "</body>\n",
        "</html>\n"
      ],
      "metadata": {
        "id": "copjFobyRXmo"
      },
      "execution_count": null,
      "outputs": []
    },
    {
      "cell_type": "markdown",
      "source": [
        "Q4. Write a short note on Tag and element with an example"
      ],
      "metadata": {
        "id": "xVN5mO3WR54l"
      }
    },
    {
      "cell_type": "markdown",
      "source": [
        "A4. HTML Tags are building blocks of HTML Page. HTML Elements are components that are used in HTML Page. HTML Tags usually exist in pairs consisting of a starting and an ending tag. However, some tags do not have a closing tag. HTML Elements contain a starting tag, content, and an ending tag\n",
        "eg of tags <p> opening tag\n",
        "eg of element paragraph tag is element <p> content</p>"
      ],
      "metadata": {
        "id": "ZXKxwzV0SEfY"
      }
    },
    {
      "cell_type": "markdown",
      "source": [
        "What is the DOCTYPE Declaration in HTML?\n",
        "\n",
        "The doctype declaration in HTML is a statement that tells the browser what version of HTML a document is written in."
      ],
      "metadata": {
        "id": "Q2oUVh-3TO0p"
      }
    }
  ]
}
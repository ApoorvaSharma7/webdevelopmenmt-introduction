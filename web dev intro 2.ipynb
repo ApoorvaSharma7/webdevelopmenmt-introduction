{
  "nbformat": 4,
  "nbformat_minor": 0,
  "metadata": {
    "colab": {
      "provenance": []
    },
    "kernelspec": {
      "name": "python3",
      "display_name": "Python 3"
    },
    "language_info": {
      "name": "python"
    }
  },
  "cells": [
    {
      "cell_type": "code",
      "execution_count": null,
      "metadata": {
        "id": "T-R-MlKZKtta"
      },
      "outputs": [],
      "source": []
    },
    {
      "cell_type": "markdown",
      "source": [
        "Q1. Explain the main components of client-server architecture and their functions\n",
        "A1. The main components of client-server architecture are clients, servers, and protocols\n",
        "Clients\n",
        "Devices or programs that request services or resources from the server\n",
        "Servers\n",
        "Powerful machines that store and manage resources or services for clients\n",
        "Servers have more memory, hard drive space, and faster CPUs than clients\n",
        "Protocols\n",
        "Protocols, such as TCP/IP, help organize information into units so that networks can receive, deliver, and transfer data efficiently\n",
        "\n",
        "Q2. Discuss the various career paths available after completing a web development course\n",
        "A2. FRONTENd developer backend developer ,Digital marketer, Game developer, Multimedia programmer, Multimedia specialist, SEO specialist, UX designer, UX researcher, Web content manager, and Web designer.\n",
        "\n",
        "Q3. Describe the role of a web browser's developer tools in web development\n",
        "A3. Web browser developer tools, also known as DevTools, help web developers inspect, debug, and modify web pages. They are a vital tool for building and maintaining websites\n",
        "\n",
        "Q4. What are the advantages of using a Version Control System like Git in a development project\n",
        "A4. Git is a version control system (VCS) that helps developers track and manage changes to source code. It's a popular choice for software development projects because it's fast, stable, and adaptable.\n",
        "\n",
        "Q5. Compare and contrast a text editor and an IDE, highlighting their key features and uses.\n",
        "A5. Text editors\n",
        "Features\n",
        "Basic rich text editing, syntax highlighting, code completion, spelling and grammar checking\n",
        "Uses\n",
        "Creating, changing, or editing plain text files, like programming source code, config files, documentation, and log files\n",
        "IDEs\n",
        "Features\n",
        "Code editor, compiler or interpreter, debugger, project management capabilities, build automation, version control integration\n",
        "Uses\n",
        "Writing, editing, debugging, compiling, and executing codes for building applications"
      ],
      "metadata": {
        "id": "FdkkqZE8KvNl"
      }
    }
  ]
}